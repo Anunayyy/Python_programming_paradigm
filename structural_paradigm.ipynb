{
 "cells": [
  {
   "cell_type": "markdown",
   "id": "b50f4274",
   "metadata": {},
   "source": [
    "Write a Python program to guess a number between 1 to 9. Note : User is \n",
    "prompted to enter a guess. If the user guesses wrong then the prompt appears again \n",
    "until the guess is correct, on successful guess, user will get a \"Well guessed!\" \n",
    "message, and the program will exit.\n"
   ]
  },
  {
   "cell_type": "code",
   "execution_count": 5,
   "id": "37993b97",
   "metadata": {},
   "outputs": [
    {
     "name": "stdout",
     "output_type": "stream",
     "text": [
      "guess a number1\n",
      "guess a number2\n",
      "guess a number3\n",
      "guess a number4\n",
      "guess a number5\n",
      "guess a number6\n",
      "guess a number7\n",
      "guess a number8\n",
      "guess a number9\n",
      "guess a number10\n",
      "correct\n"
     ]
    }
   ],
   "source": [
    "import random\n",
    "n = random.randint(1,10)\n",
    "guess = 0\n",
    "while n!=guess:\n",
    "    guess = int(input(\"guess a number\"))\n",
    "print(\"correct\")"
   ]
  },
  {
   "cell_type": "code",
   "execution_count": null,
   "id": "8cb7b06c",
   "metadata": {},
   "outputs": [],
   "source": []
  },
  {
   "cell_type": "markdown",
   "id": "5cffaaf4",
   "metadata": {},
   "source": [
    "pattern"
   ]
  },
  {
   "cell_type": "code",
   "execution_count": 9,
   "id": "de8b628c",
   "metadata": {},
   "outputs": [
    {
     "name": "stdout",
     "output_type": "stream",
     "text": [
      "choose the limit5\n",
      "\n",
      "*\n",
      "**\n",
      "***\n",
      "****\n"
     ]
    }
   ],
   "source": [
    "n = int(input(\"choose the limit\"))\n",
    "for i in range(n):\n",
    "    for j in range(i):\n",
    "        print(\"*\",end = \"\")\n",
    "    print('') # change line as er are not printing in between the commas"
   ]
  },
  {
   "cell_type": "code",
   "execution_count": 4,
   "id": "2554897a",
   "metadata": {},
   "outputs": [
    {
     "name": "stdout",
     "output_type": "stream",
     "text": [
      "choose the limit10\n",
      "\n",
      "*\n",
      "**\n",
      "***\n",
      "****\n",
      "*****\n",
      "******\n",
      "*******\n",
      "********\n",
      "*********\n",
      "**********\n",
      "*********\n",
      "********\n",
      "*******\n",
      "******\n",
      "*****\n",
      "****\n",
      "***\n",
      "**\n",
      "*\n"
     ]
    }
   ],
   "source": [
    "n = int(input(\"choose the limit\"))\n",
    "for i in range(n):\n",
    "    for j in range(i):\n",
    "        print(\"*\",end = \"\")\n",
    "    print('')\n",
    "for i in range(n,0,-1):  # decrement from n to zero\n",
    "    for j in range(i):\n",
    "        print(\"*\",end=\"\")\n",
    "    print('')"
   ]
  },
  {
   "cell_type": "code",
   "execution_count": null,
   "id": "8dad6c9a",
   "metadata": {},
   "outputs": [],
   "source": []
  },
  {
   "cell_type": "markdown",
   "id": "69bb4cfa",
   "metadata": {},
   "source": [
    "reverse a word"
   ]
  },
  {
   "cell_type": "code",
   "execution_count": 3,
   "id": "f40ebba5",
   "metadata": {},
   "outputs": [
    {
     "name": "stdout",
     "output_type": "stream",
     "text": [
      "Input a word to reverse: ANUNAY\n"
     ]
    },
    {
     "data": {
      "text/plain": [
       "'YANUNA'"
      ]
     },
     "execution_count": 3,
     "metadata": {},
     "output_type": "execute_result"
    }
   ],
   "source": [
    "word = input(\"Input a word to reverse: \") \n",
    "\n",
    "##for char in range(len(word) - 1, -1, -1):\n",
    "  ##  print(word[char], end=\"\") \n",
    "##print(\"\\n\")\n",
    "word[::-1]"
   ]
  },
  {
   "cell_type": "code",
   "execution_count": null,
   "id": "8d99c7eb",
   "metadata": {},
   "outputs": [],
   "source": []
  },
  {
   "cell_type": "markdown",
   "id": "1da6bca0",
   "metadata": {},
   "source": [
    "to make a matrix "
   ]
  },
  {
   "cell_type": "code",
   "execution_count": 6,
   "id": "faaa76c3",
   "metadata": {},
   "outputs": [
    {
     "name": "stdout",
     "output_type": "stream",
     "text": [
      "row4\n",
      "col4\n",
      "[[0, 0, 0, 0], [0, 1, 2, 3], [0, 2, 4, 6], [0, 3, 6, 9]]\n"
     ]
    }
   ],
   "source": [
    "row_num = int(input(\"row\"))\n",
    "col_num = int(input(\"col\"))\n",
    "array = [[0 for col in range(col_num)] for row in range(row_num)]\n",
    "for row in range(row_num):\n",
    "    for col in range(col_num):\n",
    "        array[row][col] = row*col\n",
    "print(array)"
   ]
  },
  {
   "cell_type": "code",
   "execution_count": null,
   "id": "10517221",
   "metadata": {},
   "outputs": [],
   "source": []
  },
  {
   "cell_type": "code",
   "execution_count": null,
   "id": "90d43018",
   "metadata": {},
   "outputs": [],
   "source": []
  },
  {
   "cell_type": "markdown",
   "id": "0956efff",
   "metadata": {},
   "source": [
    "to count number of digits and letters"
   ]
  },
  {
   "cell_type": "code",
   "execution_count": 7,
   "id": "4ab1f9b4",
   "metadata": {},
   "outputs": [
    {
     "name": "stdout",
     "output_type": "stream",
     "text": [
      "input a string:1dsiuvbnk35t8\n",
      "number of digits:  4\n",
      "number of letters:  9\n"
     ]
    }
   ],
   "source": [
    "s = input(\"input a string:\")\n",
    "d=0\n",
    "l=0\n",
    "\n",
    "for c in s:\n",
    "    if c.isdigit():\n",
    "        d=d+1\n",
    "    elif c.isalpha():\n",
    "        l=l+1\n",
    "    else:\n",
    "        pass\n",
    "    \n",
    "print(\"number of digits: \",d)\n",
    "print(\"number of letters: \",l)"
   ]
  },
  {
   "cell_type": "code",
   "execution_count": null,
   "id": "388bc438",
   "metadata": {},
   "outputs": [],
   "source": []
  },
  {
   "cell_type": "code",
   "execution_count": null,
   "id": "6a3f16bc",
   "metadata": {},
   "outputs": [],
   "source": []
  },
  {
   "cell_type": "markdown",
   "id": "a4577f12",
   "metadata": {},
   "source": [
    "Write a Python program to check the validity of password input by users. Validation \n",
    ":\n",
    "At least 1 letter between [a-z] and 1 letter between [A-Z]. \n",
    "At least 1 number between [0-9].\n",
    "At least 1 character from [$#@]. \n",
    "Minimum length 6 characters.\n",
    "Maximum length 16 characters"
   ]
  },
  {
   "cell_type": "code",
   "execution_count": 14,
   "id": "02acfbfc",
   "metadata": {},
   "outputs": [
    {
     "name": "stdout",
     "output_type": "stream",
     "text": [
      "enter the password:Anunay06#\n",
      "invalid\n"
     ]
    }
   ],
   "source": [
    "l,u,p,d = 0,0,0,0\n",
    "s = input(\"enter the password:\")\n",
    "if (len(s) >= 8) and (len(s) <= 16):\n",
    "    for i in s:\n",
    "        if (i.islower()):\n",
    "            l = l+1\n",
    "        if (i.isupper()):\n",
    "            u = u+1\n",
    "        if (i.isdigit()):\n",
    "            d = d+1\n",
    "        if(i=='@' or i=='$' or i=='!'):\n",
    "            p = p+1\n",
    "if (l>=1 and u>=1 and p>=1 and d>=1 and l+p+s+d==len(s)):\n",
    "    print(\"valid\")\n",
    "else:\n",
    "    print(\"invalid\")"
   ]
  },
  {
   "cell_type": "code",
   "execution_count": null,
   "id": "179b8550",
   "metadata": {},
   "outputs": [],
   "source": []
  },
  {
   "cell_type": "markdown",
   "id": "764e07a8",
   "metadata": {},
   "source": [
    "\n",
    "Write a Python program to find numbers between 100 and 400 (both included) \n",
    "where each digit of a number is an even number. The numbers obtained should be \n",
    "printed in a comma-separated sequence."
   ]
  },
  {
   "cell_type": "code",
   "execution_count": null,
   "id": "3c1e258a",
   "metadata": {},
   "outputs": [],
   "source": []
  },
  {
   "cell_type": "code",
   "execution_count": 18,
   "id": "cd7f0472",
   "metadata": {},
   "outputs": [
    {
     "name": "stdout",
     "output_type": "stream",
     "text": [
      "200,202,204,206,208,220,222,224,226,228,240,242,244,246,248,260,262,264,266,268,280,282,284,286,288,400\n"
     ]
    }
   ],
   "source": [
    "items = []\n",
    "for i in range(100, 401):\n",
    "    s = str(i)\n",
    "    if (int(s[0])%2==0) and (int(s[1])%2==0) and (int(s[2])%2==0):\n",
    "        items.append(s)\n",
    "print( \",\".join(items))\n"
   ]
  },
  {
   "cell_type": "code",
   "execution_count": null,
   "id": "ab837316",
   "metadata": {},
   "outputs": [],
   "source": []
  },
  {
   "cell_type": "markdown",
   "id": "eb6c3fbe",
   "metadata": {},
   "source": [
    "pattern"
   ]
  },
  {
   "cell_type": "code",
   "execution_count": 20,
   "id": "3fbd2795",
   "metadata": {},
   "outputs": [
    {
     "name": "stdout",
     "output_type": "stream",
     "text": [
      "999999999\n",
      "88888888\n",
      "7777777\n",
      "666666\n",
      "55555\n",
      "4444\n",
      "333\n",
      "22\n",
      "1\n"
     ]
    }
   ],
   "source": [
    "for i in range(9,0,-1):\n",
    "    print(str(i)*i)"
   ]
  },
  {
   "cell_type": "code",
   "execution_count": null,
   "id": "7ef6a70a",
   "metadata": {},
   "outputs": [],
   "source": []
  },
  {
   "cell_type": "code",
   "execution_count": null,
   "id": "2a9fa4b7",
   "metadata": {},
   "outputs": [],
   "source": []
  },
  {
   "cell_type": "markdown",
   "id": "330f7358",
   "metadata": {},
   "source": [
    "Write a Python program to compute the distance between the points (x1, y1) and \n",
    "(x2, y2)."
   ]
  },
  {
   "cell_type": "code",
   "execution_count": 22,
   "id": "53af0b76",
   "metadata": {},
   "outputs": [
    {
     "ename": "SyntaxError",
     "evalue": "invalid syntax (<ipython-input-22-6934a6cfc5a8>, line 5)",
     "output_type": "error",
     "traceback": [
      "\u001b[1;36m  File \u001b[1;32m\"<ipython-input-22-6934a6cfc5a8>\"\u001b[1;36m, line \u001b[1;32m5\u001b[0m\n\u001b[1;33m    print(distance)\u001b[0m\n\u001b[1;37m    ^\u001b[0m\n\u001b[1;31mSyntaxError\u001b[0m\u001b[1;31m:\u001b[0m invalid syntax\n"
     ]
    }
   ],
   "source": [
    "import math\n",
    "p1 = [5,3]\n",
    "p2 = [2,4]\n",
    "distance = math.sqrt(((p1[0] - p2[0])**2)+((p1[1] - p2[1])**2)\n",
    "    print(distance)"
   ]
  },
  {
   "cell_type": "code",
   "execution_count": null,
   "id": "d82bc2c7",
   "metadata": {},
   "outputs": [],
   "source": []
  },
  {
   "cell_type": "markdown",
   "id": "65f4bc5d",
   "metadata": {},
   "source": [
    "Function that takes a sequence of numbers and determines whether all are \n",
    "different from each other"
   ]
  },
  {
   "cell_type": "code",
   "execution_count": 24,
   "id": "030031b1",
   "metadata": {},
   "outputs": [
    {
     "name": "stdout",
     "output_type": "stream",
     "text": [
      "set of integers from 0-9:123456787\n",
      "false\n"
     ]
    }
   ],
   "source": [
    "data = input(\"set of integers from 0-9:\")\n",
    "if len(data) == len(set(data)):\n",
    "    print(\"true\")\n",
    "else:\n",
    "    print(\"false\")"
   ]
  },
  {
   "cell_type": "code",
   "execution_count": null,
   "id": "43852650",
   "metadata": {},
   "outputs": [],
   "source": []
  },
  {
   "cell_type": "markdown",
   "id": "ae0d2ba1",
   "metadata": {},
   "source": [
    "Write a Python program to reverse the digits of a given number and add it to the \n",
    "original, If the sum is not a palindrome repeat this procedure"
   ]
  },
  {
   "cell_type": "code",
   "execution_count": 25,
   "id": "d082a9c4",
   "metadata": {},
   "outputs": [
    {
     "name": "stdout",
     "output_type": "stream",
     "text": [
      "enter a number:36\n",
      "99\n"
     ]
    }
   ],
   "source": [
    "n = int(input(\"enter a number:\"))\n",
    "s = 0\n",
    "while True:   #infinite loop\n",
    "    k = str(n)\n",
    "    if k == k[::-1]:   #3 a palindrome is a number which remains same even after reversing\n",
    "        break\n",
    "    else:\n",
    "        m = int(k[::-1])\n",
    "        n = n + m\n",
    "print(n)\n",
    "    "
   ]
  },
  {
   "cell_type": "code",
   "execution_count": null,
   "id": "4798ded4",
   "metadata": {},
   "outputs": [],
   "source": []
  },
  {
   "cell_type": "markdown",
   "id": "858adb3b",
   "metadata": {},
   "source": [
    "Write a Python program to count the number of each character of a given text."
   ]
  },
  {
   "cell_type": "code",
   "execution_count": 26,
   "id": "82534a52",
   "metadata": {},
   "outputs": [
    {
     "name": "stdout",
     "output_type": "stream",
     "text": [
      "enter a string:jhonny jackson 12234\n",
      "count all characters is :\n",
      "{'j': 2, 'h': 1, 'o': 2, 'n': 3, 'y': 1, ' ': 2, 'a': 1, 'c': 1, 'k': 1, 's': 1, '1': 1, '2': 2, '3': 1, '4': 1}\n"
     ]
    }
   ],
   "source": [
    "test_str = input(\"enter a string:\")\n",
    "all_freq = {}\n",
    "for i in test_str:\n",
    "    if i in all_freq:\n",
    "        all_freq[i]+=1\n",
    "    else:\n",
    "        all_freq[i] = 1\n",
    "print (\"count all characters is :\\n\" +str(all_freq))"
   ]
  },
  {
   "cell_type": "code",
   "execution_count": 2,
   "id": "3e15c9ff",
   "metadata": {},
   "outputs": [
    {
     "name": "stdout",
     "output_type": "stream",
     "text": [
      "enter234\n"
     ]
    },
    {
     "data": {
      "text/plain": [
       "'432'"
      ]
     },
     "execution_count": 2,
     "metadata": {},
     "output_type": "execute_result"
    }
   ],
   "source": [
    "n = int(input(\"enter\"))\n",
    "k = str(n)\n",
    "k[::-1]\n"
   ]
  },
  {
   "cell_type": "code",
   "execution_count": null,
   "id": "ed56fab5",
   "metadata": {},
   "outputs": [],
   "source": []
  }
 ],
 "metadata": {
  "kernelspec": {
   "display_name": "Python 3",
   "language": "python",
   "name": "python3"
  },
  "language_info": {
   "codemirror_mode": {
    "name": "ipython",
    "version": 3
   },
   "file_extension": ".py",
   "mimetype": "text/x-python",
   "name": "python",
   "nbconvert_exporter": "python",
   "pygments_lexer": "ipython3",
   "version": "3.8.8"
  }
 },
 "nbformat": 4,
 "nbformat_minor": 5
}
