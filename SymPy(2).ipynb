{
 "cells": [
  {
   "cell_type": "code",
   "execution_count": 3,
   "id": "2fc225a8",
   "metadata": {},
   "outputs": [],
   "source": [
    "from sympy import *\n",
    "import sympy as sym"
   ]
  },
  {
   "cell_type": "markdown",
   "id": "84ac3ec5",
   "metadata": {},
   "source": [
    "set variable x,y,z\n",
    "\n",
    "and function f,g"
   ]
  },
  {
   "cell_type": "code",
   "execution_count": 9,
   "id": "b93275e0",
   "metadata": {},
   "outputs": [],
   "source": [
    "x = sym.Symbol('x')\n",
    "y = sym.Symbol('y')\n",
    "z = sym.Symbol('z')\n",
    "f = sym.Function('f')"
   ]
  },
  {
   "cell_type": "code",
   "execution_count": 10,
   "id": "c241b698",
   "metadata": {},
   "outputs": [
    {
     "data": {
      "image/png": "[encoded data removed]",
      "text/latex": [
       "$\\displaystyle x + y - z$"
      ],
      "text/plain": [
       "x + y - z"
      ]
     },
     "execution_count": 10,
     "metadata": {},
     "output_type": "execute_result"
    }
   ],
   "source": [
    "f= x + y - z\n",
    "f"
   ]
  },
  {
   "cell_type": "code",
   "execution_count": 11,
   "id": "bbab06b0",
   "metadata": {},
   "outputs": [
    {
     "name": "stdout",
     "output_type": "stream",
     "text": [
      "y - z + 10\n"
     ]
    }
   ],
   "source": [
    "# now if we want to substitue a value\n",
    "# we use f.subs(x,10), here we want to substitue x with 10\n",
    "print(f.subs(x,10))"
   ]
  },
  {
   "cell_type": "code",
   "execution_count": 13,
   "id": "af09b23b",
   "metadata": {},
   "outputs": [
    {
     "data": {
      "image/png": "[encoded data removed]",
      "text/latex": [
       "$\\displaystyle x + y - z$"
      ],
      "text/plain": [
       "x + y - z"
      ]
     },
     "execution_count": 13,
     "metadata": {},
     "output_type": "execute_result"
    }
   ],
   "source": [
    "f   # we go back to the original "
   ]
  },
  {
   "cell_type": "code",
   "execution_count": 15,
   "id": "9b7ce41a",
   "metadata": {},
   "outputs": [],
   "source": [
    "# subs for all symbols\n",
    "f1 = f.subs(x,10).subs(y,20).subs(z,5)"
   ]
  },
  {
   "cell_type": "code",
   "execution_count": 16,
   "id": "3b1a9a6d",
   "metadata": {},
   "outputs": [
    {
     "data": {
      "image/png": "[encoded data removed]",
      "text/latex": [
       "$\\displaystyle 25$"
      ],
      "text/plain": [
       "25"
      ]
     },
     "execution_count": 16,
     "metadata": {},
     "output_type": "execute_result"
    }
   ],
   "source": [
    "f1"
   ]
  },
  {
   "cell_type": "code",
   "execution_count": null,
   "id": "d66ba351",
   "metadata": {},
   "outputs": [],
   "source": []
  },
  {
   "cell_type": "code",
   "execution_count": null,
   "id": "f6da9e0f",
   "metadata": {},
   "outputs": [],
   "source": []
  },
  {
   "cell_type": "code",
   "execution_count": 24,
   "id": "b10af945",
   "metadata": {},
   "outputs": [
    {
     "name": "stdout",
     "output_type": "stream",
     "text": [
      "1.414213562373095048801688724209698078569671875376948073176679737990732478462107038850387534327641573\n"
     ]
    }
   ],
   "source": [
    "# calculate root_2 with 100 decimalplaces\n",
    "print(sym.sqrt(3).evalf(100))"
   ]
  },
  {
   "cell_type": "code",
   "execution_count": 25,
   "id": "8a762e27",
   "metadata": {},
   "outputs": [
    {
     "name": "stdout",
     "output_type": "stream",
     "text": [
      "5/6\n"
     ]
    }
   ],
   "source": [
    "# rational number addition\n",
    "a = sym.Rational(1,2)\n",
    "b = sym.Rational(1,3)\n",
    "print(a+b)"
   ]
  },
  {
   "cell_type": "code",
   "execution_count": 6,
   "id": "96dc52df",
   "metadata": {},
   "outputs": [
    {
     "name": "stdout",
     "output_type": "stream",
     "text": [
      "(x + y)**6\n"
     ]
    }
   ],
   "source": [
    "x = sym.Symbol('x')\n",
    "y = sym.Symbol('y')\n",
    "print(sym.expand(x + y)**6)"
   ]
  },
  {
   "cell_type": "code",
   "execution_count": 28,
   "id": "7153dfb8",
   "metadata": {},
   "outputs": [
    {
     "name": "stdout",
     "output_type": "stream",
     "text": [
      "tan(x)\n"
     ]
    }
   ],
   "source": [
    "x = sym.Symbol('x')\n",
    "print(sym.simplify(sym.sin(x)/sym.cos(x)))"
   ]
  },
  {
   "cell_type": "code",
   "execution_count": 29,
   "id": "af34a3cc",
   "metadata": {},
   "outputs": [
    {
     "name": "stdout",
     "output_type": "stream",
     "text": [
      "-1/6\n"
     ]
    }
   ],
   "source": [
    "x = sym.Symbol('x')\n",
    "print(sym.limit((sym.sin(x)-x) / x**3,x, 0))"
   ]
  },
  {
   "cell_type": "code",
   "execution_count": 30,
   "id": "5d904798",
   "metadata": {},
   "outputs": [
    {
     "name": "stdout",
     "output_type": "stream",
     "text": [
      "cos(x)\n",
      "-sin(x)\n",
      "1/x\n",
      "-1/x**2\n"
     ]
    }
   ],
   "source": [
    "x = sym.Symbol('x')       #differentitation\n",
    "print(sym.diff(sym.sin(x), x))\n",
    "print(sym.diff(sym.cos(x), x))\n",
    "print(sym.diff(sym.log(x), x))\n",
    "print(sym.diff(x**-1, x))"
   ]
  },
  {
   "cell_type": "code",
   "execution_count": 31,
   "id": "a84f7dfc",
   "metadata": {},
   "outputs": [
    {
     "name": "stdout",
     "output_type": "stream",
     "text": [
      "-2 4\n"
     ]
    }
   ],
   "source": [
    "## solving linear equations\n",
    "x = sym.Symbol('x')\n",
    "y = sym.Symbol('y')\n",
    "solution = sym.solve((x +y-2,2*x+y), (x, y))\n",
    "print(solution[x],solution[y])"
   ]
  },
  {
   "cell_type": "code",
   "execution_count": 32,
   "id": "8eda4168",
   "metadata": {},
   "outputs": [
    {
     "name": "stdout",
     "output_type": "stream",
     "text": [
      "x**3/3\n",
      "-cos(x)\n",
      "sin(x)\n",
      "x**2*y\n",
      "y*sin(x)\n",
      "y*cos(x)\n"
     ]
    }
   ],
   "source": [
    "# solving integration\n",
    "x = sym.Symbol('x')\n",
    "y = sym.Symbol('y')\n",
    "print(sym.integrate(x**2,x))\n",
    "print(sym.integrate(sym.sin(x),x))\n",
    "print(sym.integrate(sym.cos(x),x))\n",
    "print(sym.integrate(x**2,y))\n",
    "print(sym.integrate(sym.sin(x),y))\n",
    "print(sym.integrate(sym.cos(x),y))"
   ]
  },
  {
   "cell_type": "code",
   "execution_count": 33,
   "id": "dc01ff34",
   "metadata": {},
   "outputs": [
    {
     "name": "stdout",
     "output_type": "stream",
     "text": [
      "Eq(f(x), C1*sin(3*x) + C2*cos(3*x) - 1/9)\n"
     ]
    }
   ],
   "source": [
    "x = sym.Symbol('x')\n",
    "f= sym.Function('f')(x)\n",
    "a=sym.dsolve(f.diff(x,x)+9*f+1,f)\n",
    "print(a)"
   ]
  },
  {
   "cell_type": "code",
   "execution_count": 34,
   "id": "0935158d",
   "metadata": {},
   "outputs": [
    {
     "name": "stdout",
     "output_type": "stream",
     "text": [
      "FiniteSet((59*z/34, 33*z/34, z))\n"
     ]
    }
   ],
   "source": [
    "x = sym.Symbol('x')\n",
    "y = sym.Symbol('y')\n",
    "z = sym.Symbol('z')\n",
    "M = sym.Matrix(((3, 7, -12, 0), (4, -2, -5, 0)))\n",
    "system = A, b = M[:, :-1], M[:, -1]\n",
    "print(sym.linsolve(system, x, y, z))"
   ]
  },
  {
   "cell_type": "code",
   "execution_count": 35,
   "id": "ef9ab890",
   "metadata": {},
   "outputs": [
    {
     "data": {
      "text/latex": [
       "$\\displaystyle \\left[\\begin{matrix}3 & 7 & -12 & 0\\\\4 & -2 & -5 & 0\\end{matrix}\\right]$"
      ],
      "text/plain": [
       "⎡3  7   -12  0⎤\n",
       "⎢             ⎥\n",
       "⎣4  -2  -5   0⎦"
      ]
     },
     "execution_count": 35,
     "metadata": {},
     "output_type": "execute_result"
    }
   ],
   "source": [
    "M"
   ]
  },
  {
   "cell_type": "code",
   "execution_count": 40,
   "id": "2fadc817",
   "metadata": {},
   "outputs": [
    {
     "data": {
      "image/png": "[encoded data removed]",
      "text/latex": [
       "$\\displaystyle \\int \\sqrt{\\frac{1}{x}}\\, dx$"
      ],
      "text/plain": [
       "⌠           \n",
       "⎮     ___   \n",
       "⎮    ╱ 1    \n",
       "⎮   ╱  ─  dx\n",
       "⎮ ╲╱   x    \n",
       "⌡           "
      ]
     },
     "execution_count": 40,
     "metadata": {},
     "output_type": "execute_result"
    }
   ],
   "source": [
    "f4 = Integral(sqrt(1/x),x)\n",
    "f4"
   ]
  },
  {
   "cell_type": "code",
   "execution_count": 41,
   "id": "57d49f24",
   "metadata": {},
   "outputs": [
    {
     "data": {
      "image/png": "[encoded data removed]",
      "text/latex": [
       "$\\displaystyle \\pi^{2}$"
      ],
      "text/plain": [
       " 2\n",
       "π "
      ]
     },
     "execution_count": 41,
     "metadata": {},
     "output_type": "execute_result"
    }
   ],
   "source": [
    "sym.pi**2"
   ]
  },
  {
   "cell_type": "code",
   "execution_count": 42,
   "id": "617991bb",
   "metadata": {},
   "outputs": [
    {
     "data": {
      "image/png": "[encoded data removed]",
      "text/latex": [
       "$\\displaystyle 5.85987448204884$"
      ],
      "text/plain": [
       "5.85987448204884"
      ]
     },
     "execution_count": 42,
     "metadata": {},
     "output_type": "execute_result"
    }
   ],
   "source": [
    "(sym.pi + sym.exp(1)).evalf()   "
   ]
  },
  {
   "cell_type": "code",
   "execution_count": null,
   "id": "619daf02",
   "metadata": {},
   "outputs": [],
   "source": []
  },
  {
   "cell_type": "code",
   "execution_count": null,
   "id": "eecd5ee5",
   "metadata": {},
   "outputs": [],
   "source": []
  },
  {
   "cell_type": "code",
   "execution_count": 45,
   "id": "be71c9c9",
   "metadata": {},
   "outputs": [
    {
     "data": {
      "image/png": "[encoded data removed]",
      "text/latex": [
       "$\\displaystyle 1$"
      ],
      "text/plain": [
       "1"
      ]
     },
     "execution_count": 45,
     "metadata": {},
     "output_type": "execute_result"
    }
   ],
   "source": [
    "expr = cos(x)\n",
    "limit_expr = limit(expr, x, 0)\n",
    "limit_expr"
   ]
  },
  {
   "cell_type": "code",
   "execution_count": 10,
   "id": "d9c36833",
   "metadata": {},
   "outputs": [
    {
     "data": {
      "text/latex": [
       "$\\displaystyle - \\sin{\\left(x \\right)} \\sin{\\left(y \\right)} + \\cos{\\left(x \\right)} \\cos{\\left(y \\right)}$"
      ],
      "text/plain": [
       "-sin(x)*sin(y) + cos(x)*cos(y)"
      ]
     },
     "execution_count": 10,
     "metadata": {},
     "output_type": "execute_result"
    }
   ],
   "source": [
    "x = sym.Symbol('x')\n",
    "y = sym.Symbol('y')\n",
    "sym.expand(sym.cos(x+y),trig=True)"
   ]
  },
  {
   "cell_type": "code",
   "execution_count": 3,
   "id": "2cb5cfe4",
   "metadata": {},
   "outputs": [
    {
     "data": {
      "text/latex": [
       "$\\displaystyle 1$"
      ],
      "text/plain": [
       "1"
      ]
     },
     "execution_count": 3,
     "metadata": {},
     "output_type": "execute_result"
    }
   ],
   "source": [
    "sym.limit(sym.sin(x)/x,x,0)"
   ]
  },
  {
   "cell_type": "code",
   "execution_count": 4,
   "id": "e9fb49d2",
   "metadata": {},
   "outputs": [
    {
     "data": {
      "text/latex": [
       "$\\displaystyle 24 x$"
      ],
      "text/plain": [
       "24*x"
      ]
     },
     "execution_count": 4,
     "metadata": {},
     "output_type": "execute_result"
    }
   ],
   "source": [
    "diff(x**4, x, x, x)   # triple differentiation"
   ]
  },
  {
   "cell_type": "code",
   "execution_count": 5,
   "id": "ea4d7b9d",
   "metadata": {},
   "outputs": [
    {
     "data": {
      "text/latex": [
       "$\\displaystyle - \\cos{\\left(x \\right)}$"
      ],
      "text/plain": [
       "-cos(x)"
      ]
     },
     "execution_count": 5,
     "metadata": {},
     "output_type": "execute_result"
    }
   ],
   "source": [
    "sym.diff(sym.sin(x),x,x,x)"
   ]
  },
  {
   "cell_type": "code",
   "execution_count": 6,
   "id": "c22a98b5",
   "metadata": {},
   "outputs": [
    {
     "data": {
      "text/latex": [
       "$\\displaystyle - \\cos{\\left(x \\right)}$"
      ],
      "text/plain": [
       "-cos(x)"
      ]
     },
     "execution_count": 6,
     "metadata": {},
     "output_type": "execute_result"
    }
   ],
   "source": [
    "sym.diff(sym.sin(x),x,3)"
   ]
  },
  {
   "cell_type": "code",
   "execution_count": 8,
   "id": "88c6a18a",
   "metadata": {},
   "outputs": [
    {
     "data": {
      "text/latex": [
       "$\\displaystyle 1 - \\frac{x^{2}}{2} + \\frac{x^{4}}{24} + O\\left(x^{6}\\right)$"
      ],
      "text/plain": [
       "1 - x**2/2 + x**4/24 + O(x**6)"
      ]
     },
     "execution_count": 8,
     "metadata": {},
     "output_type": "execute_result"
    }
   ],
   "source": [
    "sym.series(sym.cos(x),x)"
   ]
  },
  {
   "cell_type": "code",
   "execution_count": 10,
   "id": "74d66cee",
   "metadata": {},
   "outputs": [
    {
     "data": {
      "text/latex": [
       "$\\displaystyle x^{2} - \\cos{\\left(x \\right)}$"
      ],
      "text/plain": [
       "x**2 - cos(x)"
      ]
     },
     "execution_count": 10,
     "metadata": {},
     "output_type": "execute_result"
    }
   ],
   "source": [
    "sym.integrate(2*x + sym.sin(x),x)"
   ]
  },
  {
   "cell_type": "code",
   "execution_count": 12,
   "id": "251c9542",
   "metadata": {},
   "outputs": [
    {
     "data": {
      "text/latex": [
       "$\\displaystyle e^{\\cos{\\left(x \\right)}}$"
      ],
      "text/plain": [
       "exp(cos(x))"
      ]
     },
     "execution_count": 12,
     "metadata": {},
     "output_type": "execute_result"
    }
   ],
   "source": [
    "sym.exp(cos(x))"
   ]
  },
  {
   "cell_type": "code",
   "execution_count": 14,
   "id": "254c9e6b",
   "metadata": {},
   "outputs": [
    {
     "data": {
      "text/latex": [
       "$\\displaystyle \\left(x^{2} - x - 1\\right) \\left(x^{2} + x - 1\\right)$"
      ],
      "text/plain": [
       "(x**2 - x - 1)*(x**2 + x - 1)"
      ]
     },
     "execution_count": 14,
     "metadata": {},
     "output_type": "execute_result"
    }
   ],
   "source": [
    "f = sym.Function('f')\n",
    "f = x**4 - 3*x**2 +1\n",
    "sym.factor(f)"
   ]
  },
  {
   "cell_type": "code",
   "execution_count": 15,
   "id": "794a161f",
   "metadata": {},
   "outputs": [
    {
     "data": {
      "text/latex": [
       "$\\displaystyle \\left[\\begin{matrix}1 & 0\\\\0 & 1\\end{matrix}\\right]$"
      ],
      "text/plain": [
       "Matrix([\n",
       "[1, 0],\n",
       "[0, 1]])"
      ]
     },
     "execution_count": 15,
     "metadata": {},
     "output_type": "execute_result"
    }
   ],
   "source": [
    "sym.Matrix([[1,0],[0,1]])"
   ]
  },
  {
   "cell_type": "code",
   "execution_count": 17,
   "id": "1bef6cc5",
   "metadata": {},
   "outputs": [
    {
     "data": {
      "text/latex": [
       "$\\displaystyle \\left[\\begin{matrix}11 & 14\\\\18 & 23\\end{matrix}\\right]$"
      ],
      "text/plain": [
       "Matrix([\n",
       "[11, 14],\n",
       "[18, 23]])"
      ]
     },
     "execution_count": 17,
     "metadata": {},
     "output_type": "execute_result"
    }
   ],
   "source": [
    "a = sym.Matrix([[1,2],[2,3]])\n",
    "b = sym.Matrix([[3,4],[4,5]])\n",
    "a*b"
   ]
  },
  {
   "cell_type": "code",
   "execution_count": 13,
   "id": "daa185f1",
   "metadata": {},
   "outputs": [
    {
     "data": {
      "text/plain": [
       "[1/2 - sqrt(5)/2, 1/2 + sqrt(5)/2]"
      ]
     },
     "execution_count": 13,
     "metadata": {},
     "output_type": "execute_result"
    }
   ],
   "source": [
    "sym.solve(𝑥**2 - 𝑥 - 1,x)"
   ]
  },
  {
   "cell_type": "code",
   "execution_count": null,
   "id": "2affc10a",
   "metadata": {},
   "outputs": [],
   "source": []
  }
 ],
 "metadata": {
  "kernelspec": {
   "display_name": "Python 3",
   "language": "python",
   "name": "python3"
  },
  "language_info": {
   "codemirror_mode": {
    "name": "ipython",
    "version": 3
   },
   "file_extension": ".py",
   "mimetype": "text/x-python",
   "name": "python",
   "nbconvert_exporter": "python",
   "pygments_lexer": "ipython3",
   "version": "3.8.8"
  }
 },
 "nbformat": 4,
 "nbformat_minor": 5
}
